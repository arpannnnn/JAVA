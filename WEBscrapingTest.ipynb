{
  "nbformat": 4,
  "nbformat_minor": 0,
  "metadata": {
    "colab": {
      "provenance": [],
      "authorship_tag": "ABX9TyPuie3AwS/mk4uda7/6cXfY",
      "include_colab_link": true
    },
    "kernelspec": {
      "name": "python3",
      "display_name": "Python 3"
    },
    "language_info": {
      "name": "python"
    }
  },
  "cells": [
    {
      "cell_type": "markdown",
      "metadata": {
        "id": "view-in-github",
        "colab_type": "text"
      },
      "source": [
        "<a href=\"https://colab.research.google.com/github/arpannnnn/JAVA/blob/main/WEBscrapingTest.ipynb\" target=\"_parent\"><img src=\"https://colab.research.google.com/assets/colab-badge.svg\" alt=\"Open In Colab\"/></a>"
      ]
    },
    {
      "cell_type": "code",
      "source": [
        "url=\"https://www.imdb.com/search/title/?count=100&groups=top_1000&sort=user_rating\"\n",
        "response=requests.get(url)\n",
        "soup=BeautifulSoup(response.content,'html.parser')\n",
        "\n",
        "\n"
      ],
      "metadata": {
        "id": "Cs342cmg7FHM"
      },
      "execution_count": 53,
      "outputs": []
    },
    {
      "cell_type": "code",
      "source": [
        "movie_name=[]\n",
        "year=[]\n",
        "time=[]\n",
        "rating=[]\n",
        "metascore=[]\n",
        "votes=[]\n",
        "Gross_total=[]\n",
        "\n"
      ],
      "metadata": {
        "id": "JIMKksTL_2mj"
      },
      "execution_count": 54,
      "outputs": []
    },
    {
      "cell_type": "code",
      "source": [
        "movie_data=soup.findAll('div', attrs ={\"class\":\"lister-item mode-advanced\"})"
      ],
      "metadata": {
        "id": "hpoqqPAbAuhG"
      },
      "execution_count": 55,
      "outputs": []
    },
    {
      "cell_type": "code",
      "source": [
        "for store in movie_data:\n",
        "  name=store.h3.a.text\n",
        "  movie_name.append(name)\n",
        "\n",
        "  year_of_released=store.h3.find(\"span\",class_=\"lister-item-year text-muted unbold\").text.replace('(','').replace(')','')\n",
        "  year.append(year_of_released)\n",
        "  "
      ],
      "metadata": {
        "id": "DKn0rVtRDIEK"
      },
      "execution_count": 56,
      "outputs": []
    },
    {
      "cell_type": "code",
      "source": [
        "print(year)"
      ],
      "metadata": {
        "colab": {
          "base_uri": "https://localhost:8080/"
        },
        "id": "4cKnHDADJrX8",
        "outputId": "1932af92-e907-4ab8-83bd-a7024f254d8f"
      },
      "execution_count": 57,
      "outputs": [
        {
          "output_type": "stream",
          "name": "stdout",
          "text": [
            "['1994', '1972', '2023', '2008', '1993', '1974', '1957', '2003', '1994', '2010', '1999', '2001', '1994', '1966', '2002', '2021', '2022', '2022', '2014', '1990', '1999', '1975', '1980', '2020', '1999', '1995', '1991', '1977', '1998', '2001', '1991', '2002', '1997', '1954', '1946', '1962', '2022', '2019', '2006', '2014', '1994', '1985', '2000', '2006', '1979', '1942', '1994', '1998', '2002', '1995', '1960', '2011', '1968', '1988', '1954', '1988', '1936', '1931', 'II 2018', '2018', '2019', '1981', '2018', '1980', 'I 2019', '2012', '2003', '1979', '2000', '2012', '1985', '1986', '2016', 'I 2017', '2008', '1984', '2006', '2018', '1964', '1981', '1950', '2009', '1957', '1957', '1940', '1963', '2019', '2021', '2021', '2019', '2022', '1995', '1997', '2009', '1999', '2000', '1995', '1983', '1984', '1968']\n"
          ]
        }
      ]
    },
    {
      "cell_type": "code",
      "execution_count": 58,
      "metadata": {
        "id": "z-KY9pUr4VQE"
      },
      "outputs": [],
      "source": [
        "import pandas as pd\n",
        "import requests\n",
        "from bs4 import BeautifulSoup\n",
        "\n"
      ]
    }
  ]
}